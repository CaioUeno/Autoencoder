{
 "cells": [
  {
   "cell_type": "code",
   "execution_count": 1,
   "metadata": {},
   "outputs": [
    {
     "name": "stderr",
     "output_type": "stream",
     "text": [
      "Using TensorFlow backend.\n"
     ]
    }
   ],
   "source": [
    "from matplotlib import pyplot as plt\n",
    "import numpy as np\n",
    "from PIL import Image\n",
    "from keras.utils import to_categorical\n",
    "from sklearn.model_selection import train_test_split\n",
    "from keras.layers import Input, Dense, Conv2D, MaxPooling2D, Flatten\n",
    "from keras.models import Model"
   ]
  },
  {
   "cell_type": "code",
   "execution_count": 2,
   "metadata": {},
   "outputs": [],
   "source": [
    "def ClassLabel(i):\n",
    "    if i == 0:\n",
    "        return 'circle'\n",
    "    elif i == 1:\n",
    "        return 'square'\n",
    "    elif i == 2:\n",
    "        return 'star'\n",
    "    elif i == 3:\n",
    "        return 'triangle'"
   ]
  },
  {
   "cell_type": "code",
   "execution_count": 3,
   "metadata": {},
   "outputs": [],
   "source": [
    "X = []\n",
    "Y = []\n",
    "\n",
    "for i in range(1, 2000):\n",
    "    img = Image.open('Shapes/' + str(i) + '.png')\n",
    "    rgb_im = img.convert('RGB')\n",
    "    data = np.asarray(rgb_im, dtype=\"int32\") / 255\n",
    "    \n",
    "    X.append(data)\n",
    "\n",
    "    if i < 500:\n",
    "        Y.append(0) # circle\n",
    "\n",
    "    elif i >= 500 and i < 1000:\n",
    "        Y.append(1) # square\n",
    "\n",
    "    elif i >= 1000 and i < 1500:\n",
    "        Y.append(2) # star\n",
    "\n",
    "    elif i >= 1500:\n",
    "        Y.append(3) # triangle"
   ]
  },
  {
   "cell_type": "code",
   "execution_count": 4,
   "metadata": {},
   "outputs": [],
   "source": [
    "X_train_original, X_test_original, y_train, y_test = train_test_split(X, Y, test_size=0.2, random_state=42)"
   ]
  },
  {
   "cell_type": "code",
   "execution_count": 5,
   "metadata": {},
   "outputs": [],
   "source": [
    "X_train_original = np.asarray(X_train_original)\n",
    "X_test_original = np.asarray(X_test_original)\n",
    "\n",
    "y_train = to_categorical(y_train)\n",
    "y_test = to_categorical(y_test)"
   ]
  },
  {
   "cell_type": "code",
   "execution_count": 6,
   "metadata": {},
   "outputs": [
    {
     "name": "stdout",
     "output_type": "stream",
     "text": [
      "WARNING:tensorflow:From /home/caio/anaconda3/lib/python3.7/site-packages/tensorflow/python/framework/op_def_library.py:263: colocate_with (from tensorflow.python.framework.ops) is deprecated and will be removed in a future version.\n",
      "Instructions for updating:\n",
      "Colocations handled automatically by placer.\n"
     ]
    }
   ],
   "source": [
    "input_img = Input(shape=(128,128,3,))\n",
    "conv1 = Conv2D(8, (3,3), activation='relu', padding='same')(input_img)\n",
    "pool1 = MaxPooling2D(pool_size=(2,2))(conv1)\n",
    "conv2 = Conv2D(4, (3,3), activation='relu', padding='same')(pool1)\n",
    "pool2 = MaxPooling2D(pool_size=(2,2))(conv2)\n",
    "conv3 = Conv2D(4, (3,3), activation='relu', padding='same')(pool2)\n",
    "\n",
    "dense1 = Flatten()(conv3)\n",
    "dense2 = Dense(512)(dense1)\n",
    "dense3 = Dense(32)(dense2)\n",
    "\n",
    "preds = Dense(4, activation='sigmoid', name='final')(dense3)\n",
    "\n",
    "Classificador_original = Model(input_img,preds)\n",
    "\n",
    "Classificador_original.compile(optimizer='adadelta', loss='categorical_crossentropy', metrics=['acc'])"
   ]
  },
  {
   "cell_type": "code",
   "execution_count": 7,
   "metadata": {},
   "outputs": [
    {
     "name": "stdout",
     "output_type": "stream",
     "text": [
      "_________________________________________________________________\n",
      "Layer (type)                 Output Shape              Param #   \n",
      "=================================================================\n",
      "input_1 (InputLayer)         (None, 128, 128, 3)       0         \n",
      "_________________________________________________________________\n",
      "conv2d_1 (Conv2D)            (None, 128, 128, 8)       224       \n",
      "_________________________________________________________________\n",
      "max_pooling2d_1 (MaxPooling2 (None, 64, 64, 8)         0         \n",
      "_________________________________________________________________\n",
      "conv2d_2 (Conv2D)            (None, 64, 64, 4)         292       \n",
      "_________________________________________________________________\n",
      "max_pooling2d_2 (MaxPooling2 (None, 32, 32, 4)         0         \n",
      "_________________________________________________________________\n",
      "conv2d_3 (Conv2D)            (None, 32, 32, 4)         148       \n",
      "_________________________________________________________________\n",
      "flatten_1 (Flatten)          (None, 4096)              0         \n",
      "_________________________________________________________________\n",
      "dense_1 (Dense)              (None, 512)               2097664   \n",
      "_________________________________________________________________\n",
      "dense_2 (Dense)              (None, 32)                16416     \n",
      "_________________________________________________________________\n",
      "final (Dense)                (None, 4)                 132       \n",
      "=================================================================\n",
      "Total params: 2,114,876\n",
      "Trainable params: 2,114,876\n",
      "Non-trainable params: 0\n",
      "_________________________________________________________________\n"
     ]
    }
   ],
   "source": [
    "Classificador_original.summary()"
   ]
  },
  {
   "cell_type": "code",
   "execution_count": null,
   "metadata": {},
   "outputs": [
    {
     "name": "stdout",
     "output_type": "stream",
     "text": [
      "WARNING:tensorflow:From /home/caio/anaconda3/lib/python3.7/site-packages/tensorflow/python/ops/math_ops.py:3066: to_int32 (from tensorflow.python.ops.math_ops) is deprecated and will be removed in a future version.\n",
      "Instructions for updating:\n",
      "Use tf.cast instead.\n",
      "Epoch 1/20\n",
      "1599/1599 [==============================] - 15s 10ms/step - loss: 0.7117 - acc: 0.6998\n",
      "Epoch 2/20\n",
      "1599/1599 [==============================] - 13s 8ms/step - loss: 0.0767 - acc: 0.9750\n",
      "Epoch 3/20\n",
      "1599/1599 [==============================] - 14s 8ms/step - loss: 0.0064 - acc: 1.0000\n",
      "Epoch 4/20\n",
      "1599/1599 [==============================] - 13s 8ms/step - loss: 0.0026 - acc: 1.0000\n",
      "Epoch 5/20\n",
      "1599/1599 [==============================] - 13s 8ms/step - loss: 0.0015 - acc: 1.0000\n",
      "Epoch 6/20\n",
      "1599/1599 [==============================] - 14s 9ms/step - loss: 8.4754e-04 - acc: 1.0000\n",
      "Epoch 7/20\n",
      "1599/1599 [==============================] - 13s 8ms/step - loss: 5.2607e-04 - acc: 1.0000\n",
      "Epoch 8/20\n",
      "1599/1599 [==============================] - 13s 8ms/step - loss: 3.2897e-04 - acc: 1.0000\n",
      "Epoch 9/20\n",
      "1599/1599 [==============================] - 13s 8ms/step - loss: 1.9844e-04 - acc: 1.0000\n",
      "Epoch 10/20\n",
      "1599/1599 [==============================] - 13s 8ms/step - loss: 1.3552e-04 - acc: 1.0000\n",
      "Epoch 11/20\n",
      "1599/1599 [==============================] - 13s 8ms/step - loss: 8.4673e-05 - acc: 1.0000\n",
      "Epoch 12/20\n",
      "1599/1599 [==============================] - 13s 8ms/step - loss: 5.8530e-05 - acc: 1.0000\n",
      "Epoch 13/20\n",
      "1599/1599 [==============================] - 13s 8ms/step - loss: 4.3547e-05 - acc: 1.0000\n",
      "Epoch 14/20\n",
      "1599/1599 [==============================] - 14s 8ms/step - loss: 3.2720e-05 - acc: 1.0000\n",
      "Epoch 15/20\n",
      "1599/1599 [==============================] - 13s 8ms/step - loss: 2.5718e-05 - acc: 1.0000\n",
      "Epoch 16/20\n",
      "1216/1599 [=====================>........] - ETA: 3s - loss: 1.9696e-05 - acc: 1.0000"
     ]
    }
   ],
   "source": [
    "h = Classificador_original.fit(X_train_original, y_train,\n",
    "                epochs=20,\n",
    "                batch_size=64,\n",
    "                shuffle=True)"
   ]
  },
  {
   "cell_type": "code",
   "execution_count": null,
   "metadata": {},
   "outputs": [],
   "source": [
    "# summarize history for loss\n",
    "plt.plot(h.history['loss'])\n",
    "plt.plot(h.history['acc'])\n",
    "plt.title('model loss & acc')\n",
    "plt.ylabel('loss & acc')\n",
    "plt.xlabel('epoch')\n",
    "plt.legend(['train', 'test'], loc='upper left')\n",
    "plt.show()"
   ]
  },
  {
   "cell_type": "code",
   "execution_count": null,
   "metadata": {},
   "outputs": [],
   "source": [
    "Classificador_original.evaluate(X_test_original,y_test)"
   ]
  },
  {
   "cell_type": "code",
   "execution_count": null,
   "metadata": {},
   "outputs": [],
   "source": [
    "X_Predicted = Classificador_original.predict(X_test_original)"
   ]
  },
  {
   "cell_type": "code",
   "execution_count": null,
   "metadata": {},
   "outputs": [],
   "source": [
    "for i in range(30):\n",
    "    #Original\n",
    "    print(ClassLabel(np.argmax(X_Predicted[i])))\n",
    "    f = X_test_original[i]\n",
    "    plt.imshow(f, interpolation='nearest')\n",
    "    plt.show()\n",
    "#     #encoded\n",
    "#     f = np.reshape(Xtr[i],(32,32,3))\n",
    "#     plt.imshow(f, interpolation='nearest')\n",
    "#     plt.show()\n",
    "#     #autoencoded\n",
    "#     f = np.reshape(X_auto[i],(128,128,3))\n",
    "#     plt.imshow(f, interpolation='nearest')\n",
    "#     plt.show()"
   ]
  },
  {
   "cell_type": "code",
   "execution_count": null,
   "metadata": {},
   "outputs": [],
   "source": []
  }
 ],
 "metadata": {
  "kernelspec": {
   "display_name": "Python 3",
   "language": "python",
   "name": "python3"
  },
  "language_info": {
   "codemirror_mode": {
    "name": "ipython",
    "version": 3
   },
   "file_extension": ".py",
   "mimetype": "text/x-python",
   "name": "python",
   "nbconvert_exporter": "python",
   "pygments_lexer": "ipython3",
   "version": "3.7.3"
  }
 },
 "nbformat": 4,
 "nbformat_minor": 2
}
