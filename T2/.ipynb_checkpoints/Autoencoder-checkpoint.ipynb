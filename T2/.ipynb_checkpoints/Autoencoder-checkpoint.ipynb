{
 "cells": [
  {
   "cell_type": "code",
   "execution_count": 1,
   "metadata": {},
   "outputs": [
    {
     "name": "stderr",
     "output_type": "stream",
     "text": [
      "Using TensorFlow backend.\n"
     ]
    }
   ],
   "source": [
    "from matplotlib import pyplot as plt\n",
    "import numpy as np\n",
    "import PIL\n",
    "from PIL import Image\n",
    "from sklearn.model_selection import train_test_split\n",
    "from keras.layers import Input, Dense, Conv2D, MaxPooling2D, UpSampling2D, Flatten\n",
    "from keras.models import Model, load_model\n",
    "from sklearn.preprocessing import LabelEncoder\n",
    "from keras.utils import to_categorical"
   ]
  },
  {
   "cell_type": "code",
   "execution_count": 2,
   "metadata": {},
   "outputs": [],
   "source": [
    "X = []\n",
    "Y = []\n",
    "\n",
    "\n",
    "for i in range(1,3993):\n",
    "    img = Image.open('All/'+str(i)+'.jpg')\n",
    "    data = np.asarray( img, dtype=\"int32\" ) / 255\n",
    "    \n",
    "    X.append(data)\n",
    "\n",
    "    if i < 500:\n",
    "        Y.append(0) #person\n",
    "\n",
    "    elif i >= 500 and i < 999:\n",
    "        Y.append(1) #dog\n",
    "\n",
    "    elif i >= 999 and i < 1498:\n",
    "        Y.append(2) #airplane\n",
    "\n",
    "    elif i >= 1498 and i < 1997:\n",
    "        Y.append(3) #cat\n",
    "\n",
    "    elif i >= 1997 and i < 2496:\n",
    "        Y.append(4) #flower\n",
    "\n",
    "    elif i >= 2496 and i < 2995:\n",
    "        Y.append(5) #car\n",
    "\n",
    "    elif i >= 2995 and i < 3494:\n",
    "        Y.append(6) #fruit\n",
    "\n",
    "    elif i >= 3494:\n",
    "        Y.append(7) #motorbike"
   ]
  },
  {
   "cell_type": "code",
   "execution_count": 3,
   "metadata": {},
   "outputs": [],
   "source": [
    "X_train_original, X_test_original, y_train, y_test = train_test_split(X, Y, test_size=0.2, random_state=42)"
   ]
  },
  {
   "cell_type": "code",
   "execution_count": null,
   "metadata": {},
   "outputs": [],
   "source": [
    "X_train_original = np.asarray(X_train_original)\n",
    "X_test_original = np.asarray(X_test_original)\n",
    "\n",
    "# label_encoder = LabelEncoder()\n",
    "# y_train = to_categorical(y_train)\n",
    "# y_test = to_categorical(y_test)"
   ]
  },
  {
   "cell_type": "code",
   "execution_count": null,
   "metadata": {},
   "outputs": [
    {
     "name": "stdout",
     "output_type": "stream",
     "text": [
      "WARNING:tensorflow:From /home/caio/anaconda3/lib/python3.7/site-packages/tensorflow/python/framework/op_def_library.py:263: colocate_with (from tensorflow.python.framework.ops) is deprecated and will be removed in a future version.\n",
      "Instructions for updating:\n",
      "Colocations handled automatically by placer.\n"
     ]
    }
   ],
   "source": [
    "# this is our input placeholder\n",
    "input_img = Input(shape=(128,128,3,))\n",
    "conv1 = Conv2D(16, (3, 3), activation='relu', padding='same')(input_img)\n",
    "pool1 = MaxPooling2D(pool_size=(2, 2))(conv1)\n",
    "conv2 = Conv2D(8, (3, 3), activation='relu', padding='same')(pool1)\n",
    "pool2 = MaxPooling2D(pool_size=(2, 2))(conv2)\n",
    "conv3 = Conv2D(3, (3, 3), activation='relu', padding='same')(pool2)\n",
    "\n",
    "#decoder\n",
    "conv4 = Conv2D(8, (3, 3), activation='relu', padding='same')(conv3)\n",
    "up1 = UpSampling2D((2, 2))(conv4)\n",
    "conv5 = Conv2D(16, (3, 3), activation='relu', padding='same')(up1)\n",
    "up2 = UpSampling2D((2, 2))(conv5)\n",
    "decoded = Conv2D(3, (3, 3), activation='sigmoid', padding='same', name='final')(up2)\n",
    "\n",
    "# this model maps an input to its reconstruction\n",
    "autoencoder = Model(input_img, decoded)\n",
    "\n",
    "# this model maps an input to its encoded representation\n",
    "encoder = Model(input_img, conv3)\n",
    "\n",
    "autoencoder.compile(optimizer='adam', loss='categorical_crossentropy')"
   ]
  },
  {
   "cell_type": "code",
   "execution_count": null,
   "metadata": {},
   "outputs": [
    {
     "name": "stdout",
     "output_type": "stream",
     "text": [
      "_________________________________________________________________\n",
      "Layer (type)                 Output Shape              Param #   \n",
      "=================================================================\n",
      "input_1 (InputLayer)         (None, 128, 128, 3)       0         \n",
      "_________________________________________________________________\n",
      "conv2d_1 (Conv2D)            (None, 128, 128, 16)      448       \n",
      "_________________________________________________________________\n",
      "max_pooling2d_1 (MaxPooling2 (None, 64, 64, 16)        0         \n",
      "_________________________________________________________________\n",
      "conv2d_2 (Conv2D)            (None, 64, 64, 8)         1160      \n",
      "_________________________________________________________________\n",
      "max_pooling2d_2 (MaxPooling2 (None, 32, 32, 8)         0         \n",
      "_________________________________________________________________\n",
      "conv2d_3 (Conv2D)            (None, 32, 32, 3)         219       \n",
      "_________________________________________________________________\n",
      "conv2d_4 (Conv2D)            (None, 32, 32, 8)         224       \n",
      "_________________________________________________________________\n",
      "up_sampling2d_1 (UpSampling2 (None, 64, 64, 8)         0         \n",
      "_________________________________________________________________\n",
      "conv2d_5 (Conv2D)            (None, 64, 64, 16)        1168      \n",
      "_________________________________________________________________\n",
      "up_sampling2d_2 (UpSampling2 (None, 128, 128, 16)      0         \n",
      "_________________________________________________________________\n",
      "final (Conv2D)               (None, 128, 128, 3)       435       \n",
      "=================================================================\n",
      "Total params: 3,654\n",
      "Trainable params: 3,654\n",
      "Non-trainable params: 0\n",
      "_________________________________________________________________\n"
     ]
    }
   ],
   "source": [
    "autoencoder.summary()"
   ]
  },
  {
   "cell_type": "code",
   "execution_count": null,
   "metadata": {},
   "outputs": [
    {
     "name": "stdout",
     "output_type": "stream",
     "text": [
      "WARNING:tensorflow:From /home/caio/anaconda3/lib/python3.7/site-packages/tensorflow/python/ops/math_ops.py:3066: to_int32 (from tensorflow.python.ops.math_ops) is deprecated and will be removed in a future version.\n",
      "Instructions for updating:\n",
      "Use tf.cast instead.\n",
      "Train on 3193 samples, validate on 799 samples\n",
      "Epoch 1/20\n",
      "3193/3193 [==============================] - 99s 31ms/step - loss: 1.5194 - val_loss: 1.4773\n",
      "Epoch 2/20\n",
      "3193/3193 [==============================] - 95s 30ms/step - loss: 1.5061 - val_loss: 1.4709\n",
      "Epoch 3/20\n",
      "3193/3193 [==============================] - 95s 30ms/step - loss: 1.5022 - val_loss: 1.4691\n",
      "Epoch 4/20\n",
      "3193/3193 [==============================] - 96s 30ms/step - loss: 1.5008 - val_loss: 1.4681\n",
      "Epoch 5/20\n",
      "3193/3193 [==============================] - 95s 30ms/step - loss: 1.5000 - val_loss: 1.4674\n",
      "Epoch 6/20\n",
      "3193/3193 [==============================] - 95s 30ms/step - loss: 1.4994 - val_loss: 1.4669\n",
      "Epoch 7/20\n",
      "3193/3193 [==============================] - 95s 30ms/step - loss: 1.4989 - val_loss: 1.4664\n",
      "Epoch 8/20\n",
      "3193/3193 [==============================] - 95s 30ms/step - loss: 1.4985 - val_loss: 1.4662\n",
      "Epoch 9/20\n",
      "3193/3193 [==============================] - 95s 30ms/step - loss: 1.4982 - val_loss: 1.4658\n",
      "Epoch 10/20\n",
      "3193/3193 [==============================] - 95s 30ms/step - loss: 1.4980 - val_loss: 1.4655\n",
      "Epoch 11/20\n",
      "3193/3193 [==============================] - 95s 30ms/step - loss: 1.4977 - val_loss: 1.4654\n",
      "Epoch 12/20\n",
      "3193/3193 [==============================] - 95s 30ms/step - loss: 1.4977 - val_loss: 1.4652\n",
      "Epoch 13/20\n",
      "3193/3193 [==============================] - 95s 30ms/step - loss: 1.4975 - val_loss: 1.4651\n",
      "Epoch 14/20\n",
      "3193/3193 [==============================] - 96s 30ms/step - loss: 1.4974 - val_loss: 1.4649\n",
      "Epoch 15/20\n",
      "3193/3193 [==============================] - 95s 30ms/step - loss: 1.4973 - val_loss: 1.4649\n",
      "Epoch 16/20\n",
      "1152/3193 [=========>....................] - ETA: 56s - loss: 1.4846"
     ]
    }
   ],
   "source": [
    "h = autoencoder.fit(X_train_original, X_train_original,\n",
    "                epochs=20,\n",
    "                batch_size=64,\n",
    "                shuffle=True,\n",
    "                validation_data=(X_test_original, X_test_original))"
   ]
  },
  {
   "cell_type": "code",
   "execution_count": null,
   "metadata": {},
   "outputs": [],
   "source": [
    "# summarize history for loss\n",
    "plt.plot(h.history['loss'])\n",
    "plt.plot(h.history['val_loss'])\n",
    "plt.title('model loss')\n",
    "plt.ylabel('loss')\n",
    "plt.xlabel('epoch')\n",
    "plt.legend(['train', 'test'], loc='upper left')\n",
    "plt.show()"
   ]
  },
  {
   "cell_type": "code",
   "execution_count": null,
   "metadata": {},
   "outputs": [],
   "source": [
    "autoencoder.save('autoencoder.h5')\n",
    "encoder.save('encoder.h5')"
   ]
  },
  {
   "cell_type": "code",
   "execution_count": null,
   "metadata": {},
   "outputs": [],
   "source": [
    "X_train_encoded = encoder.predict(X_train_original)\n",
    "X_train_autoencoded = autoencoder.predict(X_train_original)"
   ]
  },
  {
   "cell_type": "code",
   "execution_count": null,
   "metadata": {},
   "outputs": [],
   "source": [
    "for i in range(30):\n",
    "    #Original\n",
    "    f = X_train_original[i]\n",
    "    plt.imshow(f, interpolation='nearest')\n",
    "    plt.show()\n",
    "    #encoded\n",
    "    f = X_train_encoded[i]\n",
    "    plt.imshow(f, interpolation='nearest')\n",
    "    plt.show()\n",
    "    #autoencoded\n",
    "    f = X_train_autoencoded[i]\n",
    "    plt.imshow(f, interpolation='nearest')\n",
    "    plt.show()"
   ]
  }
 ],
 "metadata": {
  "kernelspec": {
   "display_name": "Python 3",
   "language": "python",
   "name": "python3"
  },
  "language_info": {
   "codemirror_mode": {
    "name": "ipython",
    "version": 3
   },
   "file_extension": ".py",
   "mimetype": "text/x-python",
   "name": "python",
   "nbconvert_exporter": "python",
   "pygments_lexer": "ipython3",
   "version": "3.7.3"
  }
 },
 "nbformat": 4,
 "nbformat_minor": 2
}
